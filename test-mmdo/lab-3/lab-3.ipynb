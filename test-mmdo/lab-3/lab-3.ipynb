{
 "cells": [
  {
   "cell_type": "code",
   "execution_count": 11,
   "metadata": {},
   "outputs": [],
   "source": [
    "class Figure:\n",
    "    def __init__(self, type, length) -> None:\n",
    "        assert length > 0, \"Довжина має бути більшою за 0!\"\n",
    "        assert type in [\"квадрат\", \"прямокутник\", \"трикутник\"], \"Дозволені фігури: квадрат, прямокутник, трикутник\"\n",
    "        self.type = type\n",
    "        self.length = length\n",
    "\n",
    "#a = Figure(\"трапеція\", 12)\n",
    "#b = Figure(\"квадрат\", 0)\n",
    "c = Figure(\"прямокутник\", 123456789)\n",
    "#d = Figure(\"паралелограм\", -6)"
   ]
  },
  {
   "cell_type": "code",
   "execution_count": 12,
   "metadata": {},
   "outputs": [
    {
     "name": "stdout",
     "output_type": "stream",
     "text": [
      "13\n"
     ]
    }
   ],
   "source": [
    "class Name:\n",
    "    def __init__(self, name, hobby) -> None:\n",
    "        if name not in [\"Богдан\", \"Анонім\", \"Дмитро\"]:\n",
    "            raise ValueError(\"Дозволені імена: Богдан, Анонім\")\n",
    "        self.name = name\n",
    "        print(len(hobby))\n",
    "        assert len(hobby) > 0, \"Хоббі обов'якове >:(((\"\n",
    "        self.hobby = hobby\n",
    "\n",
    "#a = Name(\"Богдан\" , \"\")\n",
    "b = Name(\"Дмитро\", \"Програмування\")"
   ]
  },
  {
   "cell_type": "code",
   "execution_count": 15,
   "metadata": {},
   "outputs": [
    {
     "name": "stdout",
     "output_type": "stream",
     "text": [
      "квадрат\n",
      "трикутник\n"
     ]
    }
   ],
   "source": [
    "class Figure:\n",
    "    FIGURES = [\"квадрат\", \"прямокутник\", \"трикутник\"]\n",
    "    def __init__(self, type, length) -> None:\n",
    "        assert length > 0, \"Довжина має бути більшою за 0!\"\n",
    "        assert type in self.FIGURES, \"Дозволені фігури: квадрат, прямокутник, трикутник\"\n",
    "        self.type = type\n",
    "        self.length = length\n",
    "\n",
    "    @property\n",
    "    def get_figure_type(self):\n",
    "        return self.type\n",
    "\n",
    "    @property\n",
    "    def get_figure_length(self):\n",
    "        return self.type # робимо помилку\n",
    "\n",
    "a = Figure(\"квадрат\", 5)\n",
    "b = Figure(\"трикутник\", 2)\n",
    "\n",
    "print(a.get_figure_type)\n",
    "print(b.get_figure_length)\n",
    "\n",
    "def test_app_triangle():\n",
    "    \"\"\"Test if we create triangle figure.\n",
    "    \"\"\"\n",
    "    fig = \"трикутник\"\n",
    "    triangle = Figure(fig, 4)\n",
    "    assert triangle.type == fig, f\"Фігура має бути {fig}\""
   ]
  }
 ],
 "metadata": {
  "kernelspec": {
   "display_name": "Python 3",
   "language": "python",
   "name": "python3"
  },
  "language_info": {
   "codemirror_mode": {
    "name": "ipython",
    "version": 3
   },
   "file_extension": ".py",
   "mimetype": "text/x-python",
   "name": "python",
   "nbconvert_exporter": "python",
   "pygments_lexer": "ipython3",
   "version": "3.11.8"
  }
 },
 "nbformat": 4,
 "nbformat_minor": 2
}
