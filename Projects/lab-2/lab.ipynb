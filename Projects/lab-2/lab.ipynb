{
 "cells": [
  {
   "cell_type": "code",
   "execution_count": null,
   "metadata": {},
   "outputs": [],
   "source": [
    "a = \"text\" #Типи Python\n",
    "b = 1 # числова Змінна\n",
    "c = ['a', 1, 1.1, \"lel\"] # List\n",
    "d = {\"a\": \"Слово\", \"b\": 1} # Dict\n",
    "e = (\"a\", \"v\",) # Tuple\n",
    "f = {\"ss\", } # Set"
   ]
  },
  {
   "cell_type": "code",
   "execution_count": 5,
   "metadata": {},
   "outputs": [
    {
     "name": "stdout",
     "output_type": "stream",
     "text": [
      "text const True\n",
      "12.5 є рівним 12.5\n",
      "На позиції 0 знаходиться буква a\n",
      "На позиції 1 знаходиться буква b\n",
      "На позиції 2 знаходиться буква c\n",
      "Значить А=True\n",
      "division by zero\n",
      "А вот воно що!\n",
      "РїС–РєРІРїСЏСЃ СЏ\n",
      "\n",
      "Це просто функція: <function <lambda> at 0x00000203AD0CB9C0>\n",
      "Це її виклик: Цей код написав: Богдан Бугиль\n"
     ]
    }
   ],
   "source": [
    "print(\"text const\", True) #Виведення констант\n",
    "\n",
    "print(abs(-12.5), f\"є рівним {abs(12.5)}\") #Використання стандартних функцій\n",
    "\n",
    "letters = [\"a\", \"b\", \"c\"] #Використання циклу\n",
    "for i in range(len(letters)):\n",
    "    print(f\"На позиції {i} знаходиться буква {letters[i]}\")\n",
    "\n",
    "A = True #Використання розгалужень\n",
    "print(\"Значить А=True\" if A else \"Значить А=False\")\n",
    "\n",
    "A = 0 #Конструкція try>exept>finally\n",
    "try:\n",
    "    print(\"Що буде якщо\", 10/A, \"?\")\n",
    "except Exception as e:\n",
    "    print(e)\n",
    "finally:\n",
    "    print(\"А вот воно що!\")\n",
    "\n",
    "with open(\"README.md\", \"r\") as f: #оператор with\n",
    "    for line in f:\n",
    "        print(line)\n",
    "        break\n",
    "\n",
    "this_is_lambda = lambda first, last: f'Цей код написав: {first} {last}' #lambda\n",
    "print(\"Це просто функція:\", this_is_lambda)\n",
    "print(\"Це її виклик:\", this_is_lambda('Богдан', 'Бугиль'))\n"
   ]
  },
  {
   "cell_type": "code",
   "execution_count": null,
   "metadata": {},
   "outputs": [],
   "source": []
  }
 ],
 "metadata": {
  "kernelspec": {
   "display_name": "Python 3",
   "language": "python",
   "name": "python3"
  },
  "language_info": {
   "codemirror_mode": {
    "name": "ipython",
    "version": 3
   },
   "file_extension": ".py",
   "mimetype": "text/x-python",
   "name": "python",
   "nbconvert_exporter": "python",
   "pygments_lexer": "ipython3",
   "version": "3.11.7"
  }
 },
 "nbformat": 4,
 "nbformat_minor": 2
}
